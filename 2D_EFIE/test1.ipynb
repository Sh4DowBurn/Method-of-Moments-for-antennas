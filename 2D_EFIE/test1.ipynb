{
 "cells": [
  {
   "cell_type": "code",
   "execution_count": null,
   "metadata": {},
   "outputs": [],
   "source": [
    "\n",
    "import EFIE_solver_2D as efie\n",
    "import numpy as np\n",
    "light_speed, mu0, eps0 = 299792458., 4*np.pi*1e-7, 8.854e-12\n",
    "frequency = 1e6 * 146\n",
    "omega = 2 * np.pi * frequency\n",
    "incident_voltage = 10\n",
    "\n",
    "class antenna:\n",
    "    def __init__(self, position, angle, length, source_position, radius):\n",
    "        self.position = position\n",
    "        self.angle = angle\n",
    "        self.length = length\n",
    "        self.source_position = source_position\n",
    "        self.radius = radius\n",
    "\n",
    "wavelength = light_speed / frequency\n",
    "delta_r = light_speed / frequency / 5e2\n",
    "test = antenna(np.array([[0.0, 0.0]]), \n",
    "               np.array([np.pi/2]), \n",
    "               np.array([wavelength]), \n",
    "               np.array([[0.0, 0.0]]), \n",
    "               np.array([3.175e-3]))\n"
   ]
  },
  {
   "cell_type": "code",
   "execution_count": null,
   "metadata": {},
   "outputs": [],
   "source": [
    "import geometry_2D as gm\n",
    "R_block, R = gm.calculate_positions(antenna=test, delta_r=delta_r)\n",
    "gm.plot_antenna(R_block=R_block, R=R, antenna=test, delta_r=delta_r)"
   ]
  },
  {
   "cell_type": "code",
   "execution_count": null,
   "metadata": {},
   "outputs": [],
   "source": [
    "current_block, current = efie.directional_pattern(test, incident_voltage, frequency, delta_r)\n",
    "gm.current_disribution_together(R_block, current_block)\n",
    "gm.current_distribution_2d(R, current)"
   ]
  },
  {
   "cell_type": "code",
   "execution_count": null,
   "metadata": {},
   "outputs": [],
   "source": [
    "element_num = []\n",
    "for i in range (len(R_block)):\n",
    "    element_num.append(len(R_block[i]))\n",
    "element_num = np.array(element_num)\n",
    "    \n",
    "E = [0]*len(test.length)\n",
    "for m in range (len(test.length)):\n",
    "    z0 = np.arange(element_num[m]) * delta_r - test.length[m]/2\n",
    "    Ei = lambda phi : np.sum(current_block[m]*np.exp(1j* omega/light_speed *R_block[m][:,0]*np.cos(phi))*np.exp(-1j*R_block[m][:,1]*np.sin(phi)))\n",
    "    phi = np.linspace(1e-6, 2*np.pi-1e-6, 1000)\n",
    "    E[m] = np.array([Ei(phi_i) for phi_i in phi])*(np.exp(delta_r* omega/light_speed *np.sin(phi))-1)/(omega/light_speed *np.sin(phi))\n",
    "E_total = np.abs(np.sum(np.array(E), axis=0))\n",
    "import matplotlib.pyplot as plt\n",
    "plt.polar(phi, E_total)"
   ]
  }
 ],
 "metadata": {
  "kernelspec": {
   "display_name": "MyMomVenv",
   "language": "python",
   "name": "python3"
  },
  "language_info": {
   "codemirror_mode": {
    "name": "ipython",
    "version": 3
   },
   "file_extension": ".py",
   "mimetype": "text/x-python",
   "name": "python",
   "nbconvert_exporter": "python",
   "pygments_lexer": "ipython3",
   "version": "3.12.4"
  }
 },
 "nbformat": 4,
 "nbformat_minor": 2
}
