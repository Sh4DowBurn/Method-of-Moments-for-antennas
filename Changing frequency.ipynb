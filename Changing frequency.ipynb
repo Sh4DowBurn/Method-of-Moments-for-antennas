{
 "cells": [
  {
   "cell_type": "code",
   "execution_count": null,
   "metadata": {},
   "outputs": [],
   "source": [
    "\n",
    "import better \n",
    "\n",
    "import numpy as np\n",
    "from solver_for_Pocklington_equation import directional_pattern\n",
    "from tqdm import tqdm\n",
    "\n",
    "#* Define constants\n",
    "light_speed, mu0, eps0 = 299792458., 4*np.pi*1e-7, 8.854e-12\n",
    "freq_min, freq_max, df = 140e6, 150e6, 1e6\n",
    "n = int((freq_max-freq_min)/df)\n",
    "frequency = np.linspace(freq_min, freq_max, n)\n",
    "P_total_frame = []\n",
    "phi_frame = []\n",
    "I = []\n",
    "for i in tqdm(range(len(frequency))):\n",
    "    omega = 2 * np.pi * frequency[i]\n",
    "    incident_voltage = 10\n",
    "\n",
    "    #* set geometry of antenna\n",
    "    element_position = np.array([0.0, 0.312, 0.447, 0.699, 1.05, 1.482, 1.986, 2.553, 3.168])\n",
    "    element_length = np.array([1.038, 0.955, 0.956, 0.932, 0.916, 0.906, 0.897, 0.891, 0.887])\n",
    "    wire_radius = 3.175e-3\n",
    "    source_position = np.array([[0,element_position[1],0]], dtype = float)\n",
    "\n",
    "    #! Spatial resolution\n",
    "    delta_z = light_speed / frequency[i] / 5e2\n",
    "\n",
    "    R, R_block, element_num, incident_field, impedance, current, current_block, P_total, phi = directional_pattern (frequency[i], delta_z, incident_voltage, element_position, element_length, wire_radius, source_position)\n",
    "    P_total_frame.append(P_total)\n",
    "    phi_frame.append(phi)\n",
    "    I.append(current_block)"
   ]
  },
  {
   "cell_type": "code",
   "execution_count": null,
   "metadata": {},
   "outputs": [],
   "source": [
    "import numpy as np\n",
    "import matplotlib.pyplot as plt\n",
    "from matplotlib.animation import FuncAnimation\n",
    "\n",
    "fig = plt.figure()\n",
    "ax = fig.add_subplot(111, polar=True)\n",
    "line, = ax.plot([], [], color='blue')\n",
    "ax.set_ylim(0, 1)\n",
    "\n",
    "def init():\n",
    "    line.set_data([], [])\n",
    "    return line,\n",
    "\n",
    "def update(frame):\n",
    "    line.set_data(phi, P_total_frame[frame])\n",
    "    ax.set_title(f'Directional pattern. Frequency {round(frequency[frame]/1e6,1)} MHz', va='bottom')  # Установка заголовка с номером кадра\n",
    "    return line,\n",
    "\n",
    "ani = FuncAnimation(fig, update, frames=len(P_total_frame), init_func=init, blit=True, interval=1)\n",
    "ani.save('Animation of changing frequency.gif', writer='Pillow', fps=5)"
   ]
  }
 ],
 "metadata": {
  "kernelspec": {
   "display_name": "MyMomVenv",
   "language": "python",
   "name": "python3"
  },
  "language_info": {
   "codemirror_mode": {
    "name": "ipython",
    "version": 3
   },
   "file_extension": ".py",
   "mimetype": "text/x-python",
   "name": "python",
   "nbconvert_exporter": "python",
   "pygments_lexer": "ipython3",
   "version": "3.12.4"
  }
 },
 "nbformat": 4,
 "nbformat_minor": 2
}
