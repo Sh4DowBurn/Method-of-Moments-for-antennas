{
 "cells": [
  {
   "cell_type": "code",
   "execution_count": null,
   "metadata": {},
   "outputs": [],
   "source": [
    "\n",
    "\n",
    "import better \n",
    "\n",
    "import numpy as np\n",
    "from solver_for_yagi_uda import directional_pattern\n",
    "\n",
    "#* Define constants\n",
    "light_speed, mu0, eps0 = 299792458., 4*np.pi*1e-7, 8.854e-12\n",
    "frequency = 1e6 * 144\n",
    "omega = 2 * np.pi * frequency\n",
    "incident_voltage = 20\n",
    "\n",
    "#! Spatial resolution\n",
    "delta_z = light_speed / frequency / 1e2\n",
    "\n",
    "l = light_speed / frequency\n",
    "\n",
    "#* set geometry of antenna\n",
    "element_position = np.array([[0.0, 0.0, 0.0], [0.0, 0.517, 0.0], [0.0, 0.517+0.209*1, 0.0], [0.0, 0.517+0.209*2, 0.0], [0.0,0.517+0.209*3, 0.0], [0.0, 0.517+0.209*4, 0.0], [0.0, 0.517+0.209*5, 0.0], [0.0, 0.517+0.209*6, 0.0], [0.0, 0.517+0.209*7, 0.0]], dtype = float)\n",
    "element_length = np.array([1.071, 0.985, 0.991, 0.899, 0.880, 0.868, 0.862, 0.844, 0.831], dtype = float)\n",
    "wire_radius = np.array([3.175e-3, 3.175e-3, 3.175e-3, 3.175e-3, 3.175e-3, 3.175e-3, 3.175e-3, 3.175e-3, 3.175e-3], dtype = float)\n",
    "source_position = np.array([element_position[1]], dtype = float)\n",
    "\n",
    "R, R_block, element_num, incident_field, impedance, current, current_block, E_total, phi = directional_pattern (frequency, delta_z, incident_voltage, element_position, element_length, wire_radius, source_position)"
   ]
  },
  {
   "cell_type": "code",
   "execution_count": null,
   "metadata": {},
   "outputs": [],
   "source": [
    "from yagi_visualization import plot_2dmodel, plot_together, plot_separately, current_distribution_2d, current_distribution_3d\n",
    "import matplotlib.pyplot as plt\n",
    "\n",
    "plt.polar(phi, (E_total/np.max(E_total)), label = \"Total far field\")\n",
    "plt.title(\"Normalized DP (146 MHz)\")\n",
    "plt.legend()\n",
    "plot_2dmodel(R, source_position, sum(element_num), delta_z)\n",
    "plot_together(R_block, current_block)\n",
    "plot_separately(R_block, current_block)\n",
    "current_distribution_2d(R, current)\n",
    "current_distribution_3d(R, source_position, R_block, current_block)"
   ]
  }
 ],
 "metadata": {
  "kernelspec": {
   "display_name": "MyMomVenv",
   "language": "python",
   "name": "python3"
  },
  "language_info": {
   "codemirror_mode": {
    "name": "ipython",
    "version": 3
   },
   "file_extension": ".py",
   "mimetype": "text/x-python",
   "name": "python",
   "nbconvert_exporter": "python",
   "pygments_lexer": "ipython3",
   "version": "3.12.4"
  }
 },
 "nbformat": 4,
 "nbformat_minor": 2
}
