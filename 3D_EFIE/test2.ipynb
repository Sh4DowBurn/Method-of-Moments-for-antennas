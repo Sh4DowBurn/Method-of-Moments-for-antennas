{
 "cells": [
  {
   "cell_type": "code",
   "execution_count": null,
   "metadata": {},
   "outputs": [],
   "source": [
    "\n",
    "import numpy as np\n",
    "\n",
    "light_speed, mu0, eps0 = 299792458., 4*np.pi*1e-7, 8.854e-12\n",
    "frequency = 1e6 * 146\n",
    "omega = 2 * np.pi * frequency\n",
    "incident_voltage = 10\n",
    "\n",
    "wavelength = light_speed / frequency\n",
    "delta_r = light_speed / frequency / 1e2\n",
    "\n",
    "antenna = np.array([[0.0,0.0,0.0],[0.0,0.0,wavelength]])\n",
    "source_position = np.array([[0.0,0.0,wavelength/2]])\n",
    "radius = 3.175e-3"
   ]
  },
  {
   "cell_type": "code",
   "execution_count": null,
   "metadata": {},
   "outputs": [],
   "source": [
    "import geometry as gm\n",
    "import matrix_elements as matrix_elements\n",
    "import EFIE as efie\n",
    "R_block, R = gm.calculate_positions(antenna, delta_r)\n",
    "impedance = matrix_elements.calculate_impedance(antenna, R_block, delta_r, radius, frequency)\n",
    "voltage_block, voltage = matrix_elements.calculate_voltage(R_block, incident_voltage, source_position, delta_r)\n",
    "current_block, current, E_total, phi = efie.calculate_directional_pattern(antenna, source_position, incident_voltage, frequency, radius, delta_r)"
   ]
  },
  {
   "cell_type": "code",
   "execution_count": null,
   "metadata": {},
   "outputs": [],
   "source": [
    "gm.current_distribution_3d(R, current)"
   ]
  },
  {
   "cell_type": "code",
   "execution_count": null,
   "metadata": {},
   "outputs": [],
   "source": [
    "import matplotlib.pyplot as plt\n",
    "plt.polar(phi, E_total)"
   ]
  },
  {
   "cell_type": "code",
   "execution_count": null,
   "metadata": {},
   "outputs": [],
   "source": [
    "import numpy as np\n",
    "import pyswarms as ps\n",
    "import geometry as gm\n",
    "import matrix_elements as matrix_elements\n",
    "import EFIE as efie\n",
    "light_speed, mu0, eps0, incident_voltage, frequency = 299792458., 4*np.pi*1e-7, 8.854e-12, 10, 1e6 * 146\n",
    "omega = 2 * np.pi * frequency\n",
    "\n",
    "delta_r = light_speed / frequency / 1e2\n",
    "\n",
    "k_form, k_max, k_side = 1, 1, 1\n",
    "E_0 = 0.4 \n",
    "\n",
    "phi = np.linspace(1e-6, 2*np.pi-1e-6, 1000)\n",
    "aim_func = np.zeros(len(phi))\n",
    "for i in range(len(phi)): aim_func[i] = max(0,np.sin(np.pi/2-phi[i]))**7 \n",
    "\n",
    "def fit_form (E_total):\n",
    "    return np.clip(1 - np.dot(E_total/np.max(E_total),aim_func)/np.linalg.norm(aim_func)/np.linalg.norm(E_total/np.max(E_total)),0, 1e9)\n",
    "\n",
    "def fit_max (E_total):\n",
    "    return np.clip(np.exp(1 - E_total[0]/E_0) - 1, 0, 1e9)\n",
    "\n",
    "def fit_side (E_total):\n",
    "    return np.clip(np.exp(np.max(E_total[int(len(phi)/4):int(len(phi)*3/4)])/E_total[0]) - 1, 0, 1e9)\n",
    "\n",
    "def my_objective_function(solution):\n",
    "    fit = np.zeros(len(solution))\n",
    "    radius = 3.175e-3\n",
    "    for s in range(len(fit)):\n",
    "        antenna = np.concatenate(([[0.0,0.0,0.0]], solution[s].reshape(num_elements, 3)))\n",
    "        source_position = np.array([(antenna[1]+antenna[2])/2])\n",
    "        R_block, R = gm.calculate_positions(antenna, delta_r)\n",
    "        impedance = matrix_elements.calculate_impedance(antenna, R_block, delta_r, radius, frequency)\n",
    "        voltage_block, voltage = matrix_elements.calculate_voltage(R_block, incident_voltage, source_position, delta_r)\n",
    "        current_block, current, E_total, phi = efie.calculate_directional_pattern(antenna, source_position, incident_voltage, frequency, radius, delta_r)\n",
    "        fit[s] = k_form * fit_form(E_total) + k_side * fit_side(E_total) + k_max * fit_max(E_total)\n",
    "        data_currents.append(current)\n",
    "        data_positions.append(R)\n",
    "    return fit\n",
    "\n",
    "options = {\n",
    "    'c1': 0.9,  \n",
    "    'c2': 0.5,  \n",
    "    'w': 0.8  \n",
    "}\n",
    "\n",
    "data_currents = []\n",
    "data_positions = []\n",
    "\n",
    "num_elements = 5\n",
    "dimensions = num_elements * 3\n",
    "wavelength = light_speed / frequency\n",
    "\n",
    "optimizer = ps.single.GlobalBestPSO(n_particles=2, dimensions=dimensions, options=options)\n",
    "\n",
    "best_cost, best_pos = optimizer.optimize(my_objective_function, iters=2)\n",
    "\n",
    "print(\"Лучшее сходство:\", best_cost)\n",
    "print(\"Лучшее решение:\", best_pos)\n",
    "\n",
    "np.savez('data1.npz', current = np.array(data_currents, dtype=object), position = np.array(data_positions, dtype = object))"
   ]
  }
 ],
 "metadata": {
  "kernelspec": {
   "display_name": "MyMomVenv",
   "language": "python",
   "name": "python3"
  },
  "language_info": {
   "codemirror_mode": {
    "name": "ipython",
    "version": 3
   },
   "file_extension": ".py",
   "mimetype": "text/x-python",
   "name": "python",
   "nbconvert_exporter": "python",
   "pygments_lexer": "ipython3",
   "version": "3.12.4"
  }
 },
 "nbformat": 4,
 "nbformat_minor": 2
}
