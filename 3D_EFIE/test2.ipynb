{
 "cells": [
  {
   "cell_type": "code",
   "execution_count": null,
   "metadata": {},
   "outputs": [],
   "source": [
    "\n",
    "import numpy as np\n",
    "\n",
    "light_speed, mu0, eps0 = 299792458., 4*np.pi*1e-7, 8.854e-12\n",
    "frequency = 1e6 * 146\n",
    "omega = 2 * np.pi * frequency\n",
    "incident_voltage = 10\n",
    "\n",
    "wavelength = light_speed / frequency\n",
    "delta_r = light_speed / frequency / 1e2\n",
    "\n",
    "antenna = np.array([[0.0,0.0,0.0],[0.0,0.0,wavelength/2], [0.0, 0.0, wavelength]])\n",
    "source_position = np.array([[0.0,0.0,wavelength/4]])\n",
    "radius = 3.175e-3"
   ]
  },
  {
   "cell_type": "code",
   "execution_count": null,
   "metadata": {},
   "outputs": [],
   "source": [
    "import geometry as gm\n",
    "import matrix_elements as matrix\n",
    "import EFIE_solver as efie\n",
    "R_block, R = gm.calculate_positions(antenna, delta_r)\n",
    "impedance = matrix.calculate_impedance(antenna, R_block, delta_r, radius, frequency)\n",
    "voltage_block, voltage = matrix.calculate_voltage(R_block, incident_voltage, source_position, delta_r)\n",
    "current_block, current = efie.calculate_currents(antenna, source_position, incident_voltage, frequency, radius, delta_r)"
   ]
  },
  {
   "cell_type": "code",
   "execution_count": null,
   "metadata": {},
   "outputs": [],
   "source": [
    "gm.draw_antenna_3d(R=R, source_position=source_position)\n",
    "gm.current_distribution_3d(R, current)"
   ]
  }
 ],
 "metadata": {
  "kernelspec": {
   "display_name": "MyMomVenv",
   "language": "python",
   "name": "python3"
  },
  "language_info": {
   "codemirror_mode": {
    "name": "ipython",
    "version": 3
   },
   "file_extension": ".py",
   "mimetype": "text/x-python",
   "name": "python",
   "nbconvert_exporter": "python",
   "pygments_lexer": "ipython3",
   "version": "3.12.4"
  }
 },
 "nbformat": 4,
 "nbformat_minor": 2
}
