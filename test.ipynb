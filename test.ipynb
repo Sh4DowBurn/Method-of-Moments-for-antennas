{
 "cells": [
  {
   "cell_type": "code",
   "execution_count": null,
   "metadata": {},
   "outputs": [],
   "source": [
    "\n",
    "\n",
    "import better \n",
    "\n",
    "import numpy as np\n",
    "from solver_for_Pocklington_equation import directional_pattern\n",
    "\n",
    "#* Define constants\n",
    "light_speed, mu0, eps0 = 299792458., 4*np.pi*1e-7, 8.854e-12\n",
    "frequency = 1e6 * 146\n",
    "omega = 2 * np.pi * frequency\n",
    "incident_voltage = 10\n",
    "\n",
    "#* set geometry of antenna\n",
    "element_position = np.array([[0,0,0],[0,0.312,0],[0,0.447,0],[0,0.699,0],[0,1.05,0],[0,1.482,0],[0,1.986,0],[0,2.553,0],[0,3.168,0]],dtype=float)\n",
    "element_length = np.array([1.038, 0.955, 0.956, 0.932, 0.916, 0.906, 0.897, 0.891, 0.887])\n",
    "wire_radius = np.array([3.175e-3, 3.175e-3, 3.175e-3, 3.175e-3, 3.175e-3, 3.175e-3, 3.175e-3, 3.175e-3, 3.175e-3])\n",
    "source_position = np.array([element_position[1]], dtype = float)\n",
    "\n",
    "#element_position = np.array([[0,3.0800595,0.], [0.         ,0.         ,0.        ],[0.      ,   2.51431502 ,0.        ]],dtype=float)\n",
    "#element_length = np.array([6.160119 , 1.0266865, 1.0266865])\n",
    "#wire_radius = np.full(3,3.175e-3)\n",
    "#source_position = np.array([element_position[0]], dtype = float)\n",
    "\n",
    "#! Spatial resolution\n",
    "delta_z = light_speed / frequency / 1e2\n",
    "R, R_block, element_num, incident_field, impedance, current, current_block, P_total, phi = directional_pattern (frequency, delta_z, incident_voltage, element_position, element_length, wire_radius, source_position)"
   ]
  },
  {
   "cell_type": "code",
   "execution_count": null,
   "metadata": {},
   "outputs": [],
   "source": [
    "from visualization import plot_2dmodel, plot_together, plot_separately, current_distribution_2d, current_distribution_3d\n",
    "import matplotlib.pyplot as plt\n",
    "\n",
    "plt.polar(phi, P_total)\n",
    "plot_2dmodel(R, source_position, sum(element_num), delta_z)\n",
    "plot_together(R_block, current_block)\n",
    "plot_separately(R_block, current_block)\n",
    "current_distribution_2d(R, current)\n",
    "current_distribution_3d(R, source_position, R_block, current_block)"
   ]
  }
 ],
 "metadata": {
  "kernelspec": {
   "display_name": "MyMomVenv",
   "language": "python",
   "name": "python3"
  },
  "language_info": {
   "codemirror_mode": {
    "name": "ipython",
    "version": 3
   },
   "file_extension": ".py",
   "mimetype": "text/x-python",
   "name": "python",
   "nbconvert_exporter": "python",
   "pygments_lexer": "ipython3",
   "version": "3.12.4"
  }
 },
 "nbformat": 4,
 "nbformat_minor": 2
}
