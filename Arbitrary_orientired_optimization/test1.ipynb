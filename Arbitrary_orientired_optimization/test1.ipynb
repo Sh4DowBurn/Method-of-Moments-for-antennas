{
 "cells": [
  {
   "cell_type": "code",
   "execution_count": null,
   "metadata": {},
   "outputs": [],
   "source": [
    "\n",
    "\n",
    "import better \n",
    "\n",
    "import numpy as np\n",
    "\n",
    "light_speed, mu0, eps0 = 299792458., 4*np.pi*1e-7, 8.854e-12\n",
    "frequency = 1e6 * 146\n",
    "omega = 2 * np.pi * frequency\n",
    "incident_voltage = 10\n",
    "\n",
    "class antenna:\n",
    "    def __init__(self, position, angle, length, source_position, radius):\n",
    "        self.position = position\n",
    "        self.angle = angle\n",
    "        self.length = length\n",
    "        self.source_position = source_position\n",
    "        self.radius = radius\n",
    "\n",
    "test = antenna(np.array([[0.0, 0.0]]), np.array([np.pi/2]), np.array([light_speed / frequency / 5e2 * 4]), np.array([[0.0,0.0]]), np.array([3.175e-3]))\n",
    "delta_r = np.float64(light_speed / frequency / 5e2)"
   ]
  },
  {
   "cell_type": "code",
   "execution_count": null,
   "metadata": {},
   "outputs": [],
   "source": [
    "import matrix_elements as calc\n",
    "import geometry as gm\n",
    "R_block, R = gm.calculate_positions(antenna=test, delta_r=delta_r)\n",
    "impedance = calc.calculate_impedance(antenna=test, R_block=R_block, delta_r=delta_r, frequency=frequency)\n",
    "incident_field = calc.calculate_field(antenna=test, R_block=R_block, driven_voltage=incident_voltage, delta_r=delta_r)\n",
    "current = np.linalg.solve(impedance, incident_field)"
   ]
  },
  {
   "cell_type": "code",
   "execution_count": null,
   "metadata": {},
   "outputs": [],
   "source": [
    "print(incident_field)\n",
    "print(*np.abs(impedance))"
   ]
  },
  {
   "cell_type": "code",
   "execution_count": null,
   "metadata": {},
   "outputs": [],
   "source": [
    "import matplotlib.pyplot as plt \n",
    "plt.plot(np.arange(len(impedance[0][20:])), 13*np.abs(impedance[0][20:]))"
   ]
  },
  {
   "cell_type": "code",
   "execution_count": null,
   "metadata": {},
   "outputs": [],
   "source": [
    "element_num = []\n",
    "for i in range (len(R_block)):\n",
    "    element_num.append(len(R_block[i]))\n",
    "element_num = np.array(element_num)\n",
    "    \n",
    "num_elements = sum(element_num)\n",
    "current_block = []\n",
    "cum_n = np.append(0, np.cumsum(element_num))\n",
    "for i in range (len(cum_n)-1):\n",
    "    current_block.append(current[cum_n[i]:cum_n[i+1]])"
   ]
  },
  {
   "cell_type": "code",
   "execution_count": null,
   "metadata": {},
   "outputs": [],
   "source": [
    "import matplotlib.pyplot as plt\n",
    "import numpy as np\n",
    "import colormaps as cmaps\n",
    "from matplotlib import colormaps as plt_cmaps\n",
    "import plotly.graph_objects as go\n",
    "\n",
    "def plot_together (R_block, element_currents) :\n",
    "    cmap = plt_cmaps['hot']\n",
    "    for i in range (len(R_block)):\n",
    "        plt.plot(R_block[i][:,1], np.abs(element_currents[i])*1000, zorder = np.inf, label = f'element {1+i}', color = cmap((i)/len(R_block)))\n",
    "\n",
    "    plt.title(f\"Current distribution (Pocklington equation: {sum(len(element_currents[i]) for i in range(len(element_currents)))} elements)\", size = 13)\n",
    "    plt.ylabel(\"Induced current (mA)\", size = 12)\n",
    "    plt.xlabel(\"Z position (m)\", size = 12)\n",
    "    plt.grid(zorder = 0)\n",
    "    plt.legend()\n",
    "plot_together(R_block=R_block, element_currents=current_block)"
   ]
  },
  {
   "cell_type": "code",
   "execution_count": null,
   "metadata": {},
   "outputs": [],
   "source": [
    "import geometry as gm\n",
    "R_block, R = gm.calculate_positions(antenna=test, delta_r=delta_r)\n",
    "gm.plot_antenna(R_block=R_block, R=R, antenna=test, delta_r=delta_r)"
   ]
  }
 ],
 "metadata": {
  "kernelspec": {
   "display_name": "MyMomVenv",
   "language": "python",
   "name": "python3"
  },
  "language_info": {
   "codemirror_mode": {
    "name": "ipython",
    "version": 3
   },
   "file_extension": ".py",
   "mimetype": "text/x-python",
   "name": "python",
   "nbconvert_exporter": "python",
   "pygments_lexer": "ipython3",
   "version": "3.12.4"
  }
 },
 "nbformat": 4,
 "nbformat_minor": 2
}
