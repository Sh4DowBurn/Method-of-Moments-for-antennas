{
 "cells": [
  {
   "cell_type": "code",
   "execution_count": 3,
   "id": "0c648bc7",
   "metadata": {},
   "outputs": [],
   "source": [
    "import numpy as np\n",
    "import EFIE as solve\n",
    "light_speed, mu0, eps0 = 299792458., 4*np.pi*1e-7, 8.854e-12\n",
    "\n",
    "frequency = 1e6 * 146\n",
    "omega, wavelength = 2 * np.pi * frequency, light_speed / frequency\n",
    "incident_field, radius = 220, 3.175e-3\n",
    "delta_r = wavelength / 100\n",
    "\n",
    "class yagi:\n",
    "    def __init__(self, position, angle, length, source_position, radius):\n",
    "        self.position = position\n",
    "        self.angle = angle\n",
    "        self.length = length\n",
    "        self.source_position = source_position\n",
    "        self.radius = radius\n",
    "\n",
    "class tree:\n",
    "    def __init__(self, its, phi, length, f, radius, field):\n",
    "        self.its = its\n",
    "        self.phi = phi\n",
    "        self.length = length\n",
    "        self.f = f\n",
    "        self.radius = radius\n",
    "        self.field = field\n",
    "\n",
    "basis_functions = 'triangle'\n",
    "structure_type = 'yagi-uda'\n",
    "position = np.array([[0.0, 0.0, 0.0]])\n",
    "angle = np.array([[np.pi/2, np.pi/4]])\n",
    "length = np.array([delta_r*5])\n",
    "source_position = np.array([[0.0, 0.0, 0.0, incident_field]])\n",
    "radii = np.array([radius])\n",
    "test_yagi = yagi(position, angle, length, source_position, radii)"
   ]
  },
  {
   "cell_type": "code",
   "execution_count": null,
   "id": "2cee29a6",
   "metadata": {},
   "outputs": [],
   "source": [
    "I,R = solve.calc_current_amplitudes(structure_type,basis_functions,test_yagi,frequency,delta_r)"
   ]
  },
  {
   "cell_type": "code",
   "execution_count": null,
   "id": "85b09d2f",
   "metadata": {},
   "outputs": [],
   "source": [
    "E,angles = solve.calc_field_pattern(0,0,basis_functions,structure_type,test_yagi,I,R,delta_r,frequency)\n",
    "print(np.abs(E))"
   ]
  },
  {
   "cell_type": "code",
   "execution_count": null,
   "id": "eee38575",
   "metadata": {},
   "outputs": [],
   "source": [
    "import numpy as np \n",
    "from scipy import linalg \n",
    "import scipy.integrate as integrate \n",
    "from tqdm import tqdm\n",
    "import geometry as gm\n",
    "import matrix_elements as matrix_elements\n",
    "\n",
    "# define constants\n",
    "\n",
    "light_speed, mu0, eps0 = 299792458., 4*np.pi*1e-7, 8.854e-12\n",
    "c = light_speed\n",
    "\n",
    "def basis_func(basis_functions, t_n, r_n, dr_n):\n",
    "    if basis_functions == 'pulse' :\n",
    "        return 1\n",
    "    elif basis_functions == 'triangle':\n",
    "        if -1/2 <= t_n <= 1/2 :\n",
    "            return 1/2 + t_n\n",
    "        elif 1/2 <= t_n <= 3/2 :\n",
    "            return 3/2 - t_n\n",
    "\n",
    "def weight_func(basis_functions, t_m, r_m, dr_m):\n",
    "    if basis_functions == 'pulse' :\n",
    "        return 1\n",
    "    elif basis_functions == 'triangle':\n",
    "        if -1/2 <= t_m <= 1/2 :\n",
    "            return 1/2 + t_m\n",
    "        elif 1/2 <= t_m <= 3/2 :\n",
    "            return 3/2 - t_m\n",
    "\n",
    "def exp_dp_real (t_m, point, r_m, dr_m, omega, basis_functions):\n",
    "    k = omega/c\n",
    "    rmn = np.linalg.norm(point - r_m - dr_m * (t_m - 1/2))\n",
    "    f_m = weight_func(basis_functions=basis_functions, t_m=t_m, r_m=r_m, dr_m=dr_m)\n",
    "    return f_m * np.cos(-k * rmn)\n",
    "\n",
    "def exp_dp_imag (t_m, point, r_m, dr_m, omega, basis_functions):\n",
    "    k = omega/c\n",
    "    rmn = np.linalg.norm(point - r_m - dr_m * (t_m - 1/2))\n",
    "    f_m = weight_func(basis_functions=basis_functions, t_m=t_m, r_m=r_m, dr_m=dr_m)\n",
    "    return f_m * np.sin(-k * rmn)\n",
    "\n",
    "def calc_field_pattern_new (phi, theta, basis_functions, structure_type, antenna, current, R, delta_r, frequency) :\n",
    "\n",
    "    omega = 2 * np.pi * frequency\n",
    "    \n",
    "    v = np.array([np.sin(theta) * np.cos(phi), np.sin(theta) * np.sin(phi), np.cos(theta)])\n",
    "    aux_v = np.array([1, 0, 0])\n",
    "    perp_v1 = np.cross(v, aux_v) / np.linalg.norm(np.cross(v, aux_v))\n",
    "    perp_v2 = np.cross(perp_v1, v) / np.linalg.norm(np.cross(perp_v1, v))\n",
    "\n",
    "    Radius, num_points = 1e2, 100\n",
    "    angles = np.linspace(0, 2 * np.pi, num_points)\n",
    "\n",
    "    points = np.zeros((num_points, 3))\n",
    "    for i, angle in enumerate(angles):\n",
    "        points[i] = Radius * (np.cos(angle) * perp_v1 + np.sin(angle) * perp_v2)\n",
    "\n",
    "    segments_block, source_segments = gm.antenna_to_segments(structure_type='yagi-uda', antenna=antenna, basis_functions='triangle', delta_r=delta_r)\n",
    "    dr_n = delta_r * segments_block[0][0].tau\n",
    "    if basis_functions == 'pulse_optimized':\n",
    "        E = []\n",
    "        k = 2 * np.pi * frequency / light_speed\n",
    "        for point in points:\n",
    "            E_i = 0\n",
    "            for j in range(len(R)):\n",
    "                rmn = np.linalg.norm(point - R[j])\n",
    "                k_vec = point - R[j] / rmn\n",
    "                k_p = np.dot(k_vec, dr_n)\n",
    "                if k_p == 0:\n",
    "                    E_i += - 1j*omega*mu0*current[j]*delta_r/(2*np.pi*rmn) * np.exp(-1j*k*rmn)\n",
    "                else:\n",
    "                    E_i += - 1j* omega * mu0 * current[j] * delta_r / (4 * np.pi * rmn * k_p**2) * np.exp(-1j*k*rmn) * np.exp(-1j*k_p)*(2*np.exp(1j*k_p) - np.exp(2j*k_p)-1)\n",
    "            E.append(E_i)\n",
    "        E_total = np.abs(E)\n",
    "        return E_total, angles\n",
    "    \n",
    "    \n",
    "    return E_total, angles"
   ]
  },
  {
   "cell_type": "code",
   "execution_count": null,
   "id": "b69845a3",
   "metadata": {},
   "outputs": [],
   "source": [
    "E_new, angles = calc_field_pattern_new(0,0,'pulse_optimized', structure_type,test_yagi,I,R,delta_r,frequency)"
   ]
  },
  {
   "cell_type": "code",
   "execution_count": null,
   "id": "349727a3",
   "metadata": {},
   "outputs": [],
   "source": [
    "print((E_new/E))"
   ]
  },
  {
   "cell_type": "code",
   "execution_count": null,
   "id": "55bd3caf",
   "metadata": {},
   "outputs": [],
   "source": [
    "import matplotlib.pyplot as plt \n",
    "plt.polar(angles,E, label = 'exact solution')\n",
    "plt.polar(angles,E_new, label = 'analit')\n",
    "plt.legend()"
   ]
  },
  {
   "cell_type": "code",
   "execution_count": 4,
   "id": "a26e2087",
   "metadata": {},
   "outputs": [],
   "source": [
    "import geometry as gm\n",
    "import matrix_elements as matrix_elements\n",
    "\n",
    "segments_block, source_segments = gm.antenna_to_segments(structure_type=structure_type, antenna=test_yagi, basis_functions=basis_functions, delta_r=delta_r)\n",
    "impedance = matrix_elements.calculate_impedance(basis_functions=basis_functions, structure_type=structure_type, segments_block=segments_block, frequency=frequency, delta_r=delta_r)"
   ]
  }
 ],
 "metadata": {
  "kernelspec": {
   "display_name": "MyMomVenv",
   "language": "python",
   "name": "python3"
  },
  "language_info": {
   "codemirror_mode": {
    "name": "ipython",
    "version": 3
   },
   "file_extension": ".py",
   "mimetype": "text/x-python",
   "name": "python",
   "nbconvert_exporter": "python",
   "pygments_lexer": "ipython3",
   "version": "3.12.4"
  }
 },
 "nbformat": 4,
 "nbformat_minor": 5
}
