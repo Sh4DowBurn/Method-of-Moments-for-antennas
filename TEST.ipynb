{
 "cells": [
  {
   "cell_type": "code",
   "execution_count": 6,
   "id": "0c648bc7",
   "metadata": {},
   "outputs": [],
   "source": [
    "import numpy as np\n",
    "import EFIE as solve\n",
    "light_speed, mu0, eps0 = 299792458., 4*np.pi*1e-7, 8.854e-12\n",
    "\n",
    "frequency = 1e6 * 146\n",
    "omega, wavelength = 2 * np.pi * frequency, light_speed / frequency\n",
    "incident_field, radius = 220, 3.175e-3\n",
    "delta_r = wavelength / 100\n",
    "\n",
    "class yagi:\n",
    "    def __init__(self, position, angle, length, source_position, radius):\n",
    "        self.position = position\n",
    "        self.angle = angle\n",
    "        self.length = length\n",
    "        self.source_position = source_position\n",
    "        self.radius = radius\n",
    "\n",
    "class tree:\n",
    "    def __init__(self, its, phi, length, f, radius, field):\n",
    "        self.its = its\n",
    "        self.phi = phi\n",
    "        self.length = length\n",
    "        self.f = f\n",
    "        self.radius = radius\n",
    "        self.field = field\n",
    "\n",
    "basis_functions = 'triangle'\n",
    "structure_type = 'yagi-uda'\n",
    "position = np.array([[0.0, 0.0, 0.0]])\n",
    "angle = np.array([[np.pi/2, np.pi/4]])\n",
    "length = np.array([delta_r*5])\n",
    "source_position = np.array([[0.0, 0.0, 0.0, incident_field]])\n",
    "radii = np.array([radius])\n",
    "test_yagi = yagi(position, angle, length, source_position, radii)"
   ]
  },
  {
   "cell_type": "code",
   "execution_count": 7,
   "id": "2cee29a6",
   "metadata": {},
   "outputs": [],
   "source": [
    "I,R = solve.calc_current_amplitudes(structure_type,basis_functions,test_yagi,frequency,delta_r)"
   ]
  }
 ],
 "metadata": {
  "kernelspec": {
   "display_name": "MyMomVenv",
   "language": "python",
   "name": "python3"
  },
  "language_info": {
   "codemirror_mode": {
    "name": "ipython",
    "version": 3
   },
   "file_extension": ".py",
   "mimetype": "text/x-python",
   "name": "python",
   "nbconvert_exporter": "python",
   "pygments_lexer": "ipython3",
   "version": "3.12.4"
  }
 },
 "nbformat": 4,
 "nbformat_minor": 5
}
