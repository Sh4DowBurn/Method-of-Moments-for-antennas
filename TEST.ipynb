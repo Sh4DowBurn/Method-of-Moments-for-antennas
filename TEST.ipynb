{
 "cells": [
  {
   "cell_type": "code",
   "execution_count": null,
   "id": "76573802",
   "metadata": {},
   "outputs": [],
   "source": [
    "import numpy as np\n",
    "import EFIE as solve\n",
    "light_speed, mu0, eps0 = 299792458., 4*np.pi*1e-7, 8.854e-12\n",
    "\n",
    "frequency = 1e6 * 146\n",
    "omega, wavelength = 2 * np.pi * frequency, light_speed / frequency\n",
    "incident_field, radius = 10, 3.175e-3\n",
    "delta_r = wavelength / 5e2\n",
    "\n",
    "class yagi:\n",
    "    def __init__(self, position, angle, length, source_position, radius):\n",
    "        self.position = position\n",
    "        self.angle = angle\n",
    "        self.length = length\n",
    "        self.source_position = source_position\n",
    "        self.radius = radius\n",
    "\n",
    "structure_type = 'yagi-uda'\n",
    "pos = np.array([[0.0, 0.0, 0.0]])\n",
    "angle = np.array([[0.0, 0.0]])\n",
    "lengths = np.array([wavelength/2])\n",
    "source_position = np.array([[0.0, 0.0, 0.0, incident_field]])\n",
    "radii = np.array([radius])\n",
    "test = yagi(pos, angle, lengths, source_position, radii)"
   ]
  },
  {
   "cell_type": "code",
   "execution_count": null,
   "id": "12dce302",
   "metadata": {},
   "outputs": [],
   "source": [
    "from tqdm import tqdm\n",
    "import time\n",
    "\n",
    "dr = wavelength / np.linspace(100, 3000, 30)\n",
    "I_pulse, I_triangle, E_pulse, E_triangle = np.zeros(len(dr), dtype=object), np.zeros(len(dr), dtype=object), np.zeros(len(dr), dtype=object), np.zeros(len(dr), dtype=object)\n",
    "R_pulse, R_triangle = np.zeros(len(dr), dtype=object), np.zeros(len(dr), dtype=object)\n",
    "\n",
    "time_cur_pulse, time_cur_triangle = [], []\n",
    "time_e_pulse, time_e_triangle = [], []\n",
    "\n",
    "for i in tqdm(range(len(dr))) :\n",
    "    \n",
    "    start = time.time()\n",
    "    I_pulse[i], R_pulse[i] = solve.calc_current_amplitudes(structure_type=structure_type, basis_functions='pulse', antenna=test, frequency=frequency, delta_r=dr[i])\n",
    "    time_cur_pulse.append(time.time() - start)\n",
    "    \n",
    "    start = time.time()\n",
    "    E_pulse[i], angles = solve.calc_field_pattern(phi=0, theta=0, basis_functions='pulse', current=I_pulse[i], R=R_pulse[i], delta_r=dr[i], frequency=frequency)\n",
    "    time_e_pulse.append(time.time() - start)\n",
    "    \n",
    "    start = time.time()\n",
    "    I_triangle[i], R_triangle[i] = solve.calc_current_amplitudes(structure_type=structure_type, basis_functions='triangle', antenna=test, frequency=frequency, delta_r=dr[i])\n",
    "    time_cur_triangle.append(time.time() - start)\n",
    "    \n",
    "    start = time.time()\n",
    "    E_triangle[i], angles = solve.calc_field_pattern(phi=0, theta=0, basis_functions='pulse', current=I_triangle[i], R=R_triangle[i], delta_r=dr[i], frequency=frequency)\n",
    "    time_e_triangle.append(time.time() - start)\n",
    "    \n",
    "time_cur_pulse, time_cur_triangle = np.array(time_cur_pulse), np.array(time_cur_triangle)\n",
    "time_e_pulse, time_e_triangle = np.array(time_e_pulse), np.array(time_e_triangle)"
   ]
  },
  {
   "cell_type": "code",
   "execution_count": null,
   "id": "003feb82",
   "metadata": {},
   "outputs": [],
   "source": [
    "import matplotlib.pyplot as plt\n",
    "E_max_pulse, E_max_triangle = np.zeros(len(E_pulse)), np.zeros(len(E_pulse))\n",
    "for i in range(len(E_pulse)):\n",
    "    E_max_pulse[i] = np.abs(1 - np.max(E_pulse[i])/np.max(E_pulse[-1]))\n",
    "    E_max_triangle[i] = np.abs(1 - np.max(E_triangle[i])/np.max(E_triangle[-1]))\n",
    "plt.plot(dr / wavelength, E_max_pulse, color = 'red', label = 'pulse')\n",
    "plt.plot(dr / wavelength, E_max_triangle, color = 'green', label = 'triangle')\n",
    "plt.xlabel(\"Spatial resolution, wavelength\", size = 13)\n",
    "plt.ylabel(\"1 - E/E_0\", size = 13)\n",
    "plt.title(\"Convergence using different basis functions\", size = 14)\n",
    "plt.xscale('log')\n",
    "plt.grid(True)\n",
    "plt.legend()"
   ]
  },
  {
   "cell_type": "code",
   "execution_count": null,
   "id": "389fefc2",
   "metadata": {},
   "outputs": [],
   "source": [
    "import matplotlib.pyplot as plt\n",
    "plt.plot(dr / wavelength, time_cur_pulse, color = 'red', label = 'current (pulse)')\n",
    "plt.plot(dr / wavelength, time_cur_triangle, color = 'green', label = 'current (triangle)')\n",
    "plt.plot(dr / wavelength, time_e_pulse, color = 'blue', label = 'field (pulse)')\n",
    "plt.plot(dr / wavelength, time_e_triangle, color = 'orange', label = 'field (triangle)')\n",
    "plt.xlabel(\"Spatial resolution, wavelength\", size = 13)\n",
    "plt.ylabel(\"Time, s\", size = 13)\n",
    "plt.title(\"Time for calculating\", size = 14)\n",
    "plt.grid(True)\n",
    "plt.legend()"
   ]
  },
  {
   "cell_type": "code",
   "execution_count": null,
   "id": "de1fc099",
   "metadata": {},
   "outputs": [],
   "source": [
    "delta_r = wavelength/100\n",
    "cur_pulse, r_pulse = solve.calc_current_amplitudes(structure_type, 'pulse', test, frequency, delta_r)\n",
    "field_pulse, angles = solve.calc_field_pattern(0,0, cur_pulse, r_pulse, delta_r, frequency)\n",
    "\n",
    "cur_triangle, r_triangle = solve.calc_current_amplitudes(structure_type, 'triangle', test, frequency, delta_r)\n",
    "field_triangle, angles = solve.calc_field_pattern(0,0, cur_pulse, r_pulse, delta_r, frequency)"
   ]
  },
  {
   "cell_type": "code",
   "execution_count": null,
   "id": "e023c2c8",
   "metadata": {},
   "outputs": [],
   "source": [
    "import matplotlib.pyplot as plt\n",
    "plt.polar(angles, field_pulse, color = 'red')\n",
    "plt.polar(angles, field_triangle, color = 'blue')"
   ]
  }
 ],
 "metadata": {
  "kernelspec": {
   "display_name": "MyMomVenv",
   "language": "python",
   "name": "python3"
  },
  "language_info": {
   "codemirror_mode": {
    "name": "ipython",
    "version": 3
   },
   "file_extension": ".py",
   "mimetype": "text/x-python",
   "name": "python",
   "nbconvert_exporter": "python",
   "pygments_lexer": "ipython3",
   "version": "3.12.4"
  }
 },
 "nbformat": 4,
 "nbformat_minor": 5
}
