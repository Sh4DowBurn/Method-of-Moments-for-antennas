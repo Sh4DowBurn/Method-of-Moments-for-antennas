{
 "cells": [
  {
   "cell_type": "code",
   "execution_count": null,
   "id": "76573802",
   "metadata": {},
   "outputs": [],
   "source": [
    "import numpy as np\n",
    "import EFIE as solve\n",
    "light_speed, mu0, eps0 = 299792458., 4*np.pi*1e-7, 8.854e-12\n",
    "\n",
    "frequency = 1e6 * 146\n",
    "omega, wavelength = 2 * np.pi * frequency, light_speed / frequency\n",
    "incident_field, radius = 10, 3.175e-3\n",
    "delta_r = wavelength / 1e2\n",
    "\n",
    "class yagi:\n",
    "    def __init__(self, position, angle, length, source_position, radius):\n",
    "        self.position = position\n",
    "        self.angle = angle\n",
    "        self.length = length\n",
    "        self.source_position = source_position\n",
    "        self.radius = radius\n",
    "\n",
    "structure_type = 'yagi-uda'\n",
    "pos = np.array([[0.0, 0.0, 0.0]])\n",
    "angle = np.array([[0.0, 0.0]])\n",
    "lengths = np.array([wavelength/2])\n",
    "source_position = np.array([[0.0, 0.0, 0.0, 10]])\n",
    "radii = np.array([radius])\n",
    "test = yagi(pos, angle, lengths, source_position, radii)"
   ]
  },
  {
   "cell_type": "code",
   "execution_count": null,
   "id": "e5c232f2",
   "metadata": {},
   "outputs": [],
   "source": [
    "current, R = solve.calc_current_distribution(structure_type=structure_type, antenna=test, frequency=frequency, delta_r=delta_r)"
   ]
  },
  {
   "cell_type": "code",
   "execution_count": null,
   "id": "23a4afc7",
   "metadata": {},
   "outputs": [],
   "source": [
    "E_total, phi = solve.calc_directional_pattern(phi=0, theta=0, current=current, R=R, delta_r=delta_r, frequency=frequency)"
   ]
  },
  {
   "cell_type": "code",
   "execution_count": null,
   "id": "32bb1530",
   "metadata": {},
   "outputs": [],
   "source": [
    "import matplotlib.pyplot as plt\n",
    "plt.polar(phi, E_total)"
   ]
  },
  {
   "cell_type": "code",
   "execution_count": null,
   "id": "c2f76781",
   "metadata": {},
   "outputs": [],
   "source": [
    "plt.plot(R[:,2],np.abs(current))"
   ]
  },
  {
   "cell_type": "code",
   "execution_count": null,
   "id": "72ec05ea",
   "metadata": {},
   "outputs": [],
   "source": [
    "\n",
    "import numpy as np\n",
    "import plotly.graph_objects as go\n",
    "\n",
    "def current_distribution_3d (R, current):\n",
    "    fig = go.Figure()\n",
    "    fig.add_trace(go.Scatter3d(\n",
    "        x=R[:,0],\n",
    "        y=R[:,1],\n",
    "        z=R[:,2],\n",
    "        mode='markers',\n",
    "        marker=dict(\n",
    "            size=3,\n",
    "            color=np.abs(current),\n",
    "            colorscale='plasma',\n",
    "            showscale=True,\n",
    "            colorbar=dict(title='Amplitude of current, A')\n",
    "        )\n",
    "    ))\n",
    "    fig.update_layout(\n",
    "        title='Induced Current Distribution in 3D',\n",
    "        scene=dict(\n",
    "            xaxis_title='X position, m',\n",
    "            yaxis_title='Y position, m',\n",
    "            zaxis_title='Z position, m'\n",
    "        )\n",
    "    )\n",
    "    fig.show()\n",
    "current_distribution_3d(R,current)"
   ]
  }
 ],
 "metadata": {
  "kernelspec": {
   "display_name": "MyMomVenv",
   "language": "python",
   "name": "python3"
  },
  "language_info": {
   "codemirror_mode": {
    "name": "ipython",
    "version": 3
   },
   "file_extension": ".py",
   "mimetype": "text/x-python",
   "name": "python",
   "nbconvert_exporter": "python",
   "pygments_lexer": "ipython3",
   "version": "3.12.4"
  }
 },
 "nbformat": 4,
 "nbformat_minor": 5
}
