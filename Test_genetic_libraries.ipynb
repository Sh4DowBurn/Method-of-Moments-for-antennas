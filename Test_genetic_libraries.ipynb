{
 "cells": [
  {
   "cell_type": "code",
   "execution_count": null,
   "metadata": {},
   "outputs": [
    {
     "name": "stdout",
     "output_type": "stream",
     "text": [
      "Лучшее решение:\n",
      "[[ 0  1  1]\n",
      " [-2  0  0]], Fitness: 1\n"
     ]
    }
   ],
   "source": [
    "import pygad  # Импортируем библиотеку PyGAD для работы с генетическими алгоритмами\n",
    "import numpy as np  # Импортируем библиотеку NumPy для работы с массивами и математическими операциями\n",
    "\n",
    "# Определяем функцию fit, которая будет оценивать качество решения\n",
    "def fit(solution):\n",
    "    # В этой функции мы проверяем сумму элементов массива (solution)\n",
    "    # Если сумма равна 0, возвращаем 0 (решение подходит), иначе возвращаем 1 (решение не подходит)\n",
    "    return 0 if np.sum(solution) == 0 else 1\n",
    "\n",
    "# Определяем целевую функцию для генетического алгоритма\n",
    "def fitness_func(ga_instance, solution, solution_idx):\n",
    "    # Эта функция вызывается для оценки каждого решения в популяции\n",
    "    return fit(solution)  # Вызываем функцию fit для получения значения приспособленности\n",
    "\n",
    "# Настраиваем параметры генетического алгоритма\n",
    "num_genes = 6  # Указываем количество генов в решении (например, для двумерного массива 2x3)\n",
    "\n",
    "# Создаем экземпляр класса GA (генетический алгоритм) с заданными параметрами\n",
    "ga = pygad.GA(\n",
    "    num_generations=50,                # Количество поколений (итераций) для выполнения\n",
    "    num_parents_mating=10,             # Количество родителей, которые будут скрещиваться\n",
    "    fitness_func=fitness_func,         # Функция оценки приспособленности\n",
    "    sol_per_pop=20,                    # Размер популяции (количество решений в каждом поколении)\n",
    "    num_genes=num_genes,               # Количество генов в каждом решении\n",
    "    gene_type=int,                     # Тип данных для генов (целые числа)\n",
    "    parent_selection_type=\"sss\",       # Метод выбора родителей (в данном случае \"статистический селектор\")\n",
    "    keep_parents=1                     # Количество родителей, которые будут сохранены в следующем поколении\n",
    ")\n",
    "\n",
    "# Запускаем алгоритм на выполнение\n",
    "ga.run()\n",
    "\n",
    "# Получаем лучшее решение из популяции после завершения работы алгоритма\n",
    "solution, solution_fitness, solution_idx = ga.best_solution()\n",
    "\n",
    "# Преобразуем одномерный массив решения в двумерный массив размером 2x3\n",
    "optimal_array = solution.reshape(2, 3)\n",
    "\n",
    "# Выводим лучшее решение и его значение приспособленности на экран\n",
    "print(f\"Лучшее решение:\\n{optimal_array}, Fitness: {solution_fitness}\")\n"
   ]
  }
 ],
 "metadata": {
  "kernelspec": {
   "display_name": "MyMomVenv",
   "language": "python",
   "name": "python3"
  },
  "language_info": {
   "codemirror_mode": {
    "name": "ipython",
    "version": 3
   },
   "file_extension": ".py",
   "mimetype": "text/x-python",
   "name": "python",
   "nbconvert_exporter": "python",
   "pygments_lexer": "ipython3",
   "version": "3.12.4"
  }
 },
 "nbformat": 4,
 "nbformat_minor": 2
}
