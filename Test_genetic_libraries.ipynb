{
 "cells": [
  {
   "cell_type": "code",
   "execution_count": null,
   "metadata": {},
   "outputs": [],
   "source": [
    "import pygad\n",
    "import numpy as np\n",
    "\n",
    "# Определяем целевую функцию\n",
    "def fitness_func(solution, solution_idx):\n",
    "    # Решение - это двумерный массив, минимизируем сумму всех его элементов\n",
    "    return -np.sum(solution)  # Отрицательное значение для минимизации\n",
    "\n",
    "# Настраиваем параметры GA\n",
    "num_genes = 6  # Например, 2x3 массив\n",
    "ga = pygad.GA(num_generations=50,\n",
    "               num_parents_mating=10,\n",
    "               fitness_func=fitness_func,\n",
    "               sol_per_pop=20,\n",
    "               num_genes=num_genes,\n",
    "               gene_type=float,\n",
    "               parent_selection_type=\"sss\",\n",
    "               keep_parents=1)\n",
    "\n",
    "# Запускаем алгоритм\n",
    "ga.run()\n",
    "\n",
    "# Получаем лучшее решение\n",
    "solution, solution_fitness, solution_idx = ga.best_solution()\n",
    "optimal_array = solution.reshape(2, 3)  # Преобразуем в двумерный массив\n",
    "print(f\"Лучшее решение:\\n{optimal_array}, Fitness: {solution_fitness}\")\n"
   ]
  }
 ],
 "metadata": {
  "kernelspec": {
   "display_name": "MyMomVenv",
   "language": "python",
   "name": "python3"
  },
  "language_info": {
   "codemirror_mode": {
    "name": "ipython",
    "version": 3
   },
   "file_extension": ".py",
   "mimetype": "text/x-python",
   "name": "python",
   "nbconvert_exporter": "python",
   "pygments_lexer": "ipython3",
   "version": "3.12.4"
  }
 },
 "nbformat": 4,
 "nbformat_minor": 2
}
